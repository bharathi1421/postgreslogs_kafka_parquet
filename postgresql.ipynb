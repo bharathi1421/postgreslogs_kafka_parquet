{
 "cells": [
  {
   "cell_type": "code",
   "execution_count": 11,
   "id": "8bc0f874-1863-4dc6-bdd9-3720d694f014",
   "metadata": {},
   "outputs": [
    {
     "name": "stdout",
     "output_type": "stream",
     "text": [
      "Connection to Postgres database successful.\n",
      "Table created successfully.\n",
      "Records inserted successfully.\n"
     ]
    }
   ],
   "source": [
    "import psycopg2\n",
    "from psycopg2 import OperationalError\n",
    "\n",
    "# Database connection parameters\n",
    "db_params = {\n",
    "    'dbname': 'mydb',\n",
    "    'user': 'bharathi',\n",
    "    'password': 'bharathi14',\n",
    "    'host': 'localhost',\n",
    "    'port': '5432'\n",
    "}\n",
    "\n",
    "def connect_to_db():\n",
    "    try:\n",
    "        conn = psycopg2.connect(**db_params)\n",
    "        print(\"Connection to Postgres database successful.\")\n",
    "        return conn\n",
    "    except OperationalError as e:\n",
    "        print(f\"Unable to connect to the database. Error: {e}\")\n",
    "        return None\n",
    "\n",
    "def create_table(conn):\n",
    "    with conn.cursor() as cursor:\n",
    "        cursor.execute(\"\"\"\n",
    "        CREATE TABLE IF NOT EXISTS example_table (\n",
    "            id SERIAL PRIMARY KEY,\n",
    "            name VARCHAR(100),\n",
    "            age INT\n",
    "        )\n",
    "        \"\"\")\n",
    "        conn.commit()\n",
    "        print(\"Table created successfully.\")\n",
    "\n",
    "def insert_records(conn):\n",
    "    with conn.cursor() as cursor:\n",
    "        cursor.execute(\"\"\"\n",
    "        INSERT INTO example_table (name, age) VALUES\n",
    "        ('Alice', 30),\n",
    "        ('Bob', 25)\n",
    "        \"\"\")\n",
    "        conn.commit()\n",
    "        print(\"Records inserted successfully.\")\n",
    "\n",
    "def main():\n",
    "    conn = connect_to_db()\n",
    "    if conn:\n",
    "        create_table(conn)\n",
    "        insert_records(conn)\n",
    "        conn.close()\n",
    "\n",
    "if __name__ == \"__main__\":\n",
    "    main()\n",
    "\n",
    "\n",
    "\n",
    "\n",
    "\n",
    "\n",
    "\n",
    "\n"
   ]
  }
 ],
 "metadata": {
  "kernelspec": {
   "display_name": "Python 3 (ipykernel)",
   "language": "python",
   "name": "python3"
  },
  "language_info": {
   "codemirror_mode": {
    "name": "ipython",
    "version": 3
   },
   "file_extension": ".py",
   "mimetype": "text/x-python",
   "name": "python",
   "nbconvert_exporter": "python",
   "pygments_lexer": "ipython3",
   "version": "3.12.4"
  }
 },
 "nbformat": 4,
 "nbformat_minor": 5
}
