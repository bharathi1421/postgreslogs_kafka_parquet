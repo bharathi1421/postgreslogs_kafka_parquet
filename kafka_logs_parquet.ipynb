{
 "cells": [
  {
   "cell_type": "code",
   "execution_count": 2,
   "id": "c31f161b-af3e-4c04-b898-65925f202161",
   "metadata": {},
   "outputs": [
    {
     "name": "stdout",
     "output_type": "stream",
     "text": [
      "Requirement already satisfied: psycopg2-binary in ./anaconda3/lib/python3.12/site-packages (2.9.9)\n",
      "Requirement already satisfied: confluent_kafka in ./anaconda3/lib/python3.12/site-packages (2.5.0)\n"
     ]
    }
   ],
   "source": [
    "!pip install psycopg2-binary confluent_kafka\n"
   ]
  },
  {
   "cell_type": "code",
   "execution_count": null,
   "id": "e54fe850-eb93-4749-b434-a065f01330d5",
   "metadata": {},
   "outputs": [],
   "source": []
  },
  {
   "cell_type": "code",
   "execution_count": 7,
   "id": "d1d46d54-44b3-43d8-9453-ac1c657cde03",
   "metadata": {},
   "outputs": [
    {
     "name": "stdout",
     "output_type": "stream",
     "text": [
      "Requirement already satisfied: confluent_kafka in ./anaconda3/lib/python3.12/site-packages (2.5.0)\n",
      "Requirement already satisfied: pandas in ./anaconda3/lib/python3.12/site-packages (2.2.2)\n",
      "Requirement already satisfied: pyarrow in ./anaconda3/lib/python3.12/site-packages (14.0.2)\n",
      "Requirement already satisfied: numpy>=1.26.0 in ./anaconda3/lib/python3.12/site-packages (from pandas) (1.26.4)\n",
      "Requirement already satisfied: python-dateutil>=2.8.2 in ./anaconda3/lib/python3.12/site-packages (from pandas) (2.9.0.post0)\n",
      "Requirement already satisfied: pytz>=2020.1 in ./anaconda3/lib/python3.12/site-packages (from pandas) (2024.1)\n",
      "Requirement already satisfied: tzdata>=2022.7 in ./anaconda3/lib/python3.12/site-packages (from pandas) (2023.3)\n",
      "Requirement already satisfied: six>=1.5 in ./anaconda3/lib/python3.12/site-packages (from python-dateutil>=2.8.2->pandas) (1.16.0)\n"
     ]
    }
   ],
   "source": [
    "!pip install confluent_kafka pandas pyarrow\n"
   ]
  },
  {
   "cell_type": "code",
   "execution_count": 8,
   "id": "52e45005-962c-452b-b1f9-a0a3e82c6a59",
   "metadata": {},
   "outputs": [
    {
     "name": "stdout",
     "output_type": "stream",
     "text": [
      "Consuming messages from Kafka...\n",
      "Logs have been written to logs.parquet\n"
     ]
    }
   ],
   "source": [
    "from confluent_kafka import Consumer\n",
    "import pandas as pd\n",
    "import pyarrow as pa\n",
    "import pyarrow.parquet as pq\n",
    "\n",
    "# Kafka configuration\n",
    "kafka_config = {\n",
    "    'bootstrap.servers': 'localhost:9092',  # Kafka broker address\n",
    "    'group.id': 'log-consumer-group',\n",
    "    'auto.offset.reset': 'earliest'\n",
    "}\n",
    "\n",
    "# Kafka topic to consume from\n",
    "topic = 'quickstart'\n",
    "\n",
    "# Set up Kafka consumer\n",
    "consumer = Consumer(kafka_config)\n",
    "consumer.subscribe([topic])\n",
    "\n",
    "# List to hold messages\n",
    "messages = []\n",
    "\n",
    "# Consume messages\n",
    "print(\"Consuming messages from Kafka...\")\n",
    "try:\n",
    "    while True:\n",
    "        msg = consumer.poll(timeout=1.0)\n",
    "        if msg is None:\n",
    "            break\n",
    "        if msg.error():\n",
    "            print(f\"Consumer error: {msg.error()}\")\n",
    "            continue\n",
    "        # Append message to list\n",
    "        messages.append(msg.value().decode('utf-8'))\n",
    "finally:\n",
    "    # Close the consumer\n",
    "    consumer.close()\n",
    "\n",
    "# Convert messages to DataFrame\n",
    "df = pd.DataFrame(messages, columns=['log'])\n",
    "\n",
    "# Write DataFrame to Parquet file\n",
    "parquet_file_path = 'logs.parquet'\n",
    "table = pa.Table.from_pandas(df)\n",
    "pq.write_table(table, parquet_file_path)\n",
    "\n",
    "print(f\"Logs have been written to {parquet_file_path}\")\n"
   ]
  },
  {
   "cell_type": "code",
   "execution_count": 9,
   "id": "4235aa2d-60c5-4408-abe5-27b1b3265ae0",
   "metadata": {},
   "outputs": [
    {
     "name": "stdout",
     "output_type": "stream",
     "text": [
      "/Users/bharathi_palanikumar\n"
     ]
    }
   ],
   "source": [
    "import os\n",
    "print(os.getcwd())\n",
    "\n"
   ]
  },
  {
   "cell_type": "code",
   "execution_count": 11,
   "id": "cc5b8355-3b98-49aa-bce9-977dd060d3f8",
   "metadata": {},
   "outputs": [
    {
     "name": "stdout",
     "output_type": "stream",
     "text": [
      "Collecting docker\n",
      "  Downloading docker-7.1.0-py3-none-any.whl.metadata (3.8 kB)\n",
      "Requirement already satisfied: requests>=2.26.0 in ./anaconda3/lib/python3.12/site-packages (from docker) (2.32.2)\n",
      "Requirement already satisfied: urllib3>=1.26.0 in ./anaconda3/lib/python3.12/site-packages (from docker) (2.2.2)\n",
      "Requirement already satisfied: charset-normalizer<4,>=2 in ./anaconda3/lib/python3.12/site-packages (from requests>=2.26.0->docker) (2.0.4)\n",
      "Requirement already satisfied: idna<4,>=2.5 in ./anaconda3/lib/python3.12/site-packages (from requests>=2.26.0->docker) (3.7)\n",
      "Requirement already satisfied: certifi>=2017.4.17 in ./anaconda3/lib/python3.12/site-packages (from requests>=2.26.0->docker) (2024.6.2)\n",
      "Downloading docker-7.1.0-py3-none-any.whl (147 kB)\n",
      "\u001b[2K   \u001b[38;2;114;156;31m━━━━━━━━━━━━━━━━━━━━━━━━━━━━━━━━━━━━━━━\u001b[0m \u001b[32m147.8/147.8 kB\u001b[0m \u001b[31m980.4 kB/s\u001b[0m eta \u001b[36m0:00:00\u001b[0m31m1.2 MB/s\u001b[0m eta \u001b[36m0:00:01\u001b[0mm\n",
      "\u001b[?25hInstalling collected packages: docker\n",
      "Successfully installed docker-7.1.0\n",
      "Note: you may need to restart the kernel to use updated packages.\n"
     ]
    }
   ],
   "source": [
    "pip install docker"
   ]
  }
 ],
 "metadata": {
  "kernelspec": {
   "display_name": "Python 3 (ipykernel)",
   "language": "python",
   "name": "python3"
  },
  "language_info": {
   "codemirror_mode": {
    "name": "ipython",
    "version": 3
   },
   "file_extension": ".py",
   "mimetype": "text/x-python",
   "name": "python",
   "nbconvert_exporter": "python",
   "pygments_lexer": "ipython3",
   "version": "3.12.4"
  }
 },
 "nbformat": 4,
 "nbformat_minor": 5
}
